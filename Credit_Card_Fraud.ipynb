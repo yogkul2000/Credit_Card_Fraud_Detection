{
  "nbformat": 4,
  "nbformat_minor": 0,
  "metadata": {
    "colab": {
      "name": "Credit_Card_Fraud.ipynb",
      "provenance": [],
      "toc_visible": true
    },
    "kernelspec": {
      "name": "python3",
      "display_name": "Python 3"
    },
    "accelerator": "GPU"
  },
  "cells": [
    {
      "cell_type": "code",
      "metadata": {
        "id": "dkrlWGomm22C",
        "colab_type": "code",
        "colab": {}
      },
      "source": [
        "!pip install -q kaggle"
      ],
      "execution_count": 0,
      "outputs": []
    },
    {
      "cell_type": "code",
      "metadata": {
        "id": "70dBaQrfnPXY",
        "colab_type": "code",
        "colab": {}
      },
      "source": [
        "!mkdir -p ~/.kaggle\n",
        "!cp kaggle.json ~/.kaggle/"
      ],
      "execution_count": 0,
      "outputs": []
    },
    {
      "cell_type": "code",
      "metadata": {
        "id": "CH90wfA_njKW",
        "colab_type": "code",
        "outputId": "a6442a41-8b0d-49cd-db20-589b2c9be5da",
        "colab": {
          "base_uri": "https://localhost:8080/",
          "height": 108
        }
      },
      "source": [
        "!kaggle datasets download -d mlg-ulb/creditcardfraud"
      ],
      "execution_count": 0,
      "outputs": [
        {
          "output_type": "stream",
          "text": [
            "Warning: Your Kaggle API key is readable by other users on this system! To fix this, you can run 'chmod 600 /root/.kaggle/kaggle.json'\n",
            "Downloading creditcardfraud.zip to /content\n",
            " 74% 49.0M/66.0M [00:01<00:00, 19.2MB/s]\n",
            "100% 66.0M/66.0M [00:01<00:00, 40.3MB/s]\n"
          ],
          "name": "stdout"
        }
      ]
    },
    {
      "cell_type": "code",
      "metadata": {
        "id": "AAmesaBZnpc8",
        "colab_type": "code",
        "colab": {}
      },
      "source": [
        "!unzip -q 'creditcardfraud.zip'"
      ],
      "execution_count": 0,
      "outputs": []
    },
    {
      "cell_type": "code",
      "metadata": {
        "id": "Men_pWlpnwvk",
        "colab_type": "code",
        "colab": {}
      },
      "source": [
        "import pandas as pd\n",
        "import numpy as np\n",
        "import matplotlib.pyplot as plt\n"
      ],
      "execution_count": 0,
      "outputs": []
    },
    {
      "cell_type": "code",
      "metadata": {
        "id": "c6jUjEr4n5r0",
        "colab_type": "code",
        "colab": {}
      },
      "source": [
        "dataset = pd.read_csv('creditcard.csv')"
      ],
      "execution_count": 0,
      "outputs": []
    },
    {
      "cell_type": "code",
      "metadata": {
        "id": "3RfA1SUxoBLU",
        "colab_type": "code",
        "outputId": "7b7a3ce8-dcb1-401d-f5e6-73a6a7d2ec72",
        "colab": {
          "base_uri": "https://localhost:8080/",
          "height": 411
        }
      },
      "source": [
        "dataset"
      ],
      "execution_count": 0,
      "outputs": [
        {
          "output_type": "execute_result",
          "data": {
            "text/html": [
              "<div>\n",
              "<style scoped>\n",
              "    .dataframe tbody tr th:only-of-type {\n",
              "        vertical-align: middle;\n",
              "    }\n",
              "\n",
              "    .dataframe tbody tr th {\n",
              "        vertical-align: top;\n",
              "    }\n",
              "\n",
              "    .dataframe thead th {\n",
              "        text-align: right;\n",
              "    }\n",
              "</style>\n",
              "<table border=\"1\" class=\"dataframe\">\n",
              "  <thead>\n",
              "    <tr style=\"text-align: right;\">\n",
              "      <th></th>\n",
              "      <th>Time</th>\n",
              "      <th>V4</th>\n",
              "      <th>V7</th>\n",
              "      <th>V10</th>\n",
              "      <th>V17</th>\n",
              "    </tr>\n",
              "  </thead>\n",
              "  <tbody>\n",
              "    <tr>\n",
              "      <th>0</th>\n",
              "      <td>0.0</td>\n",
              "      <td>1.378155</td>\n",
              "      <td>0.239599</td>\n",
              "      <td>0.090794</td>\n",
              "      <td>0.207971</td>\n",
              "    </tr>\n",
              "    <tr>\n",
              "      <th>1</th>\n",
              "      <td>0.0</td>\n",
              "      <td>0.448154</td>\n",
              "      <td>-0.078803</td>\n",
              "      <td>-0.166974</td>\n",
              "      <td>-0.114805</td>\n",
              "    </tr>\n",
              "    <tr>\n",
              "      <th>2</th>\n",
              "      <td>1.0</td>\n",
              "      <td>0.379780</td>\n",
              "      <td>0.791461</td>\n",
              "      <td>0.207643</td>\n",
              "      <td>1.109969</td>\n",
              "    </tr>\n",
              "    <tr>\n",
              "      <th>3</th>\n",
              "      <td>1.0</td>\n",
              "      <td>-0.863291</td>\n",
              "      <td>0.237609</td>\n",
              "      <td>-0.054952</td>\n",
              "      <td>-0.684093</td>\n",
              "    </tr>\n",
              "    <tr>\n",
              "      <th>4</th>\n",
              "      <td>2.0</td>\n",
              "      <td>0.403034</td>\n",
              "      <td>0.592941</td>\n",
              "      <td>0.753074</td>\n",
              "      <td>-0.237033</td>\n",
              "    </tr>\n",
              "    <tr>\n",
              "      <th>...</th>\n",
              "      <td>...</td>\n",
              "      <td>...</td>\n",
              "      <td>...</td>\n",
              "      <td>...</td>\n",
              "      <td>...</td>\n",
              "    </tr>\n",
              "    <tr>\n",
              "      <th>284802</th>\n",
              "      <td>172786.0</td>\n",
              "      <td>-2.066656</td>\n",
              "      <td>-4.918215</td>\n",
              "      <td>4.356170</td>\n",
              "      <td>1.991691</td>\n",
              "    </tr>\n",
              "    <tr>\n",
              "      <th>284803</th>\n",
              "      <td>172787.0</td>\n",
              "      <td>-0.738589</td>\n",
              "      <td>0.024330</td>\n",
              "      <td>-0.975926</td>\n",
              "      <td>-0.025693</td>\n",
              "    </tr>\n",
              "    <tr>\n",
              "      <th>284804</th>\n",
              "      <td>172788.0</td>\n",
              "      <td>-0.557828</td>\n",
              "      <td>-0.296827</td>\n",
              "      <td>-0.484782</td>\n",
              "      <td>0.313502</td>\n",
              "    </tr>\n",
              "    <tr>\n",
              "      <th>284805</th>\n",
              "      <td>172788.0</td>\n",
              "      <td>0.689799</td>\n",
              "      <td>-0.686180</td>\n",
              "      <td>-0.399126</td>\n",
              "      <td>0.509928</td>\n",
              "    </tr>\n",
              "    <tr>\n",
              "      <th>284806</th>\n",
              "      <td>172792.0</td>\n",
              "      <td>-0.506271</td>\n",
              "      <td>1.577006</td>\n",
              "      <td>-0.915427</td>\n",
              "      <td>-0.660377</td>\n",
              "    </tr>\n",
              "  </tbody>\n",
              "</table>\n",
              "<p>284807 rows × 5 columns</p>\n",
              "</div>"
            ],
            "text/plain": [
              "            Time        V4        V7       V10       V17\n",
              "0            0.0  1.378155  0.239599  0.090794  0.207971\n",
              "1            0.0  0.448154 -0.078803 -0.166974 -0.114805\n",
              "2            1.0  0.379780  0.791461  0.207643  1.109969\n",
              "3            1.0 -0.863291  0.237609 -0.054952 -0.684093\n",
              "4            2.0  0.403034  0.592941  0.753074 -0.237033\n",
              "...          ...       ...       ...       ...       ...\n",
              "284802  172786.0 -2.066656 -4.918215  4.356170  1.991691\n",
              "284803  172787.0 -0.738589  0.024330 -0.975926 -0.025693\n",
              "284804  172788.0 -0.557828 -0.296827 -0.484782  0.313502\n",
              "284805  172788.0  0.689799 -0.686180 -0.399126  0.509928\n",
              "284806  172792.0 -0.506271  1.577006 -0.915427 -0.660377\n",
              "\n",
              "[284807 rows x 5 columns]"
            ]
          },
          "metadata": {
            "tags": []
          },
          "execution_count": 15
        }
      ]
    },
    {
      "cell_type": "code",
      "metadata": {
        "id": "0geogNqWtwpZ",
        "colab_type": "code",
        "colab": {}
      },
      "source": [
        "X = dataset.iloc[:, 0:5].values"
      ],
      "execution_count": 0,
      "outputs": []
    },
    {
      "cell_type": "code",
      "metadata": {
        "id": "V-MLZqTXt2wp",
        "colab_type": "code",
        "colab": {}
      },
      "source": [
        "# Splitting the dataset into the Training set and Test set\n",
        "from sklearn.model_selection import train_test_split\n",
        "X_train, X_test, y_train, y_test = train_test_split(X, y, test_size = 0.2, random_state = 0)"
      ],
      "execution_count": 0,
      "outputs": []
    },
    {
      "cell_type": "code",
      "metadata": {
        "id": "w3WsP_iGt31t",
        "colab_type": "code",
        "colab": {}
      },
      "source": [
        "from sklearn.preprocessing import StandardScaler\n",
        "sc_X = StandardScaler()\n",
        "X_train = sc_X.fit_transform(X_train)\n",
        "X_test = sc_X.transform(X_test)"
      ],
      "execution_count": 0,
      "outputs": []
    },
    {
      "cell_type": "code",
      "metadata": {
        "id": "gU_W-O3At6gv",
        "colab_type": "code",
        "colab": {}
      },
      "source": [
        "# Fitting Kernel SVM to the Training set\n",
        "from sklearn.svm import SVC\n",
        "classifier = SVC(kernel = 'rbf', random_state = 0)\n",
        "classifier.fit(X_train, y_train)\n",
        "\n",
        "# Predicting the Test set results\n",
        "y_pred = classifier.predict(X_test)"
      ],
      "execution_count": 0,
      "outputs": []
    },
    {
      "cell_type": "code",
      "metadata": {
        "id": "IIk4FhNRt9b4",
        "colab_type": "code",
        "outputId": "4949e657-6d82-477e-fd7b-035f3981d234",
        "colab": {
          "base_uri": "https://localhost:8080/",
          "height": 55
        }
      },
      "source": [
        "from sklearn.model_selection import cross_val_score\n",
        "cross_val_svc = cross_val_score(estimator = classifier, X = X_train, y = y_train, cv = 10, n_jobs = -1)\n",
        "print(\"Cross Validation Accuracy : \",round(cross_val_svc.mean() * 100 , 2),\"%\")"
      ],
      "execution_count": 0,
      "outputs": [
        {
          "output_type": "stream",
          "text": [
            "Cross Validation Accuracy :  99.94 %\n"
          ],
          "name": "stdout"
        }
      ]
    },
    {
      "cell_type": "code",
      "metadata": {
        "id": "vgHnvJ_tug9q",
        "colab_type": "code",
        "colab": {}
      },
      "source": [
        ""
      ],
      "execution_count": 0,
      "outputs": []
    }
  ]
}